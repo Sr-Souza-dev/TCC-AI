{
 "cells": [
  {
   "cell_type": "markdown",
   "metadata": {},
   "source": [
    "## Exibe logs para modelos treinados"
   ]
  },
  {
   "cell_type": "code",
   "execution_count": 9,
   "metadata": {},
   "outputs": [
    {
     "name": "stdout",
     "output_type": "stream",
     "text": [
      "================================================ PETR4_B_0_30min_logs.csv ===========================================================\n",
      "                  model  qtdBuying  inirialValue  finalValue  percentual  accuracy       f1  truePositives  trueNegatives  falsePositives  falseNegatives\n",
      "                    SVM          1          1000 1310.886644   31.088664  0.537472 0.699163            0.0          710.0           611.0             0.0\n",
      "                    KNN        223          1000 1411.542006   41.154201  0.501893 0.614302          139.0          524.0           472.0           186.0\n",
      "                     LR          1          1000 1310.886644   31.088664  0.537472 0.699163            0.0          710.0           611.0             0.0\n",
      "                   LSTM          5          1000 1171.470821   17.147082  0.503407 0.604819          163.0          502.0           448.0           208.0\n",
      "                    MLP          8          1000  989.771856   -1.022814  0.498864 0.594859          173.0          486.0           438.0           224.0\n",
      "                    RNN         25          1000 1148.299148   14.829915  0.507192 0.611807          157.0          513.0           454.0           197.0\n",
      "                  ARIMA        142          1000 1154.568737   15.456874  0.514762 0.560658          271.0          409.0           340.0           301.0\n",
      "                 SARIMA        337          1000  972.996367   -2.700363  0.496593 0.518465          298.0          358.0           313.0           352.0\n",
      "                  GARCH         54          1000  987.516391   -1.248361  0.519304 0.593730          222.0          464.0           389.0           246.0\n",
      "Ensamble Classification        223          1000 1411.542006   41.154201  0.501893 0.614302          139.0          524.0           472.0           186.0\n",
      "    Ensamble Regression          5          1000 1171.470821   17.147082  0.503407 0.604819          163.0          502.0           448.0           208.0\n",
      "    Ensamble Statistics         54          1000  987.516391   -1.248361  0.519304 0.593730          222.0          464.0           389.0           246.0\n",
      "                 buying        171          1000 1188.406810   18.840681  0.504164 0.633053          101.0          565.0           510.0           145.0\n",
      "                buying2        133          1000 1140.420251   14.042025  0.516276 0.656267           72.0          610.0           539.0           100.0\n",
      "           Buy and Hold          1          1000 1310.886644   31.088664       NaN      NaN            NaN            NaN             NaN             NaN\n",
      "\n",
      "================================================ PETR4_B_0_15min_logs.csv ===========================================================\n",
      "                  model  qtdBuying  inirialValue  finalValue  percentual  accuracy       f1  truePositives  trueNegatives  falsePositives  falseNegatives\n",
      "                    SVM        582          1000  867.722077  -13.227792  0.647572 0.671615          757.0          950.0           313.0           616.0\n",
      "                    KNN        591          1000  942.344759   -5.765524  0.636191 0.656887          759.0          918.0           311.0           648.0\n",
      "                     LR        578          1000  854.517789  -14.548221  0.643020 0.660166          781.0          914.0           289.0           652.0\n",
      "                   LSTM          1          1000  797.723292  -20.227671  0.593703 0.745061            0.0         1565.0          1070.0             1.0\n",
      "                    MLP         57          1000  800.134398  -19.986560  0.580425 0.725966           65.0         1465.0          1005.0           101.0\n",
      "                    RNN          2          1000  796.425126  -20.357487  0.593323 0.744762            0.0         1564.0          1070.0             2.0\n",
      "                  ARIMA          4          1000  994.967148   -0.503285  0.406677 0.003822         1069.0            3.0             1.0          1563.0\n",
      "                 SARIMA        659          1000  836.758641  -16.324136  0.496965 0.537979          538.0          772.0           532.0           794.0\n",
      "                  GARCH         92          1000  944.296666   -5.570333  0.521624 0.588581          473.0          902.0           597.0           664.0\n",
      "Ensamble Classification        591          1000  942.344759   -5.765524  0.636191 0.656887          759.0          918.0           311.0           648.0\n",
      "    Ensamble Regression          2          1000  796.425126  -20.357487  0.593323 0.744762            0.0         1564.0          1070.0             2.0\n",
      "    Ensamble Statistics         92          1000  944.296666   -5.570333  0.521624 0.588581          473.0          902.0           597.0           664.0\n",
      "                 buying        583          1000  936.158246   -6.384175  0.644537 0.671343          742.0          957.0           328.0           609.0\n",
      "                buying2        581          1000  961.451348   -3.854865  0.647951 0.680441          720.0          988.0           350.0           578.0\n",
      "           Buy and Hold          1          1000  801.231310  -19.876869       NaN      NaN            NaN            NaN             NaN             NaN\n",
      "\n",
      "================================================ PETR4_B_0_60min_logs.csv ===========================================================\n",
      "                  model  qtdBuying  inirialValue  finalValue  percentual  accuracy       f1  truePositives  trueNegatives  falsePositives  falseNegatives\n",
      "                    SVM          5          1000  575.527537  -42.447246  0.507396 0.669970            5.0          338.0           331.0             2.0\n",
      "                    KNN        139          1000  591.442413  -40.855759  0.470414 0.568675           82.0          236.0           254.0           104.0\n",
      "                     LR          2          1000  509.294057  -49.070594  0.504438 0.669951            1.0          340.0           335.0             0.0\n",
      "                   LSTM         38          1000  580.449995  -41.955001  0.505917 0.652083           29.0          313.0           307.0            27.0\n",
      "                    MLP         59          1000  630.191998  -36.980800  0.507396 0.641550           45.0          298.0           291.0            42.0\n",
      "                    RNN          9          1000  568.247023  -43.175298  0.513314 0.626561           71.0          276.0           265.0            64.0\n",
      "                  ARIMA          1          1000 1002.386635    0.238663  0.498521 0.005865          336.0            1.0             0.0           339.0\n",
      "                 SARIMA        170          1000  908.986254   -9.101375  0.514793 0.520468          170.0          178.0           166.0           162.0\n",
      "                  GARCH         23          1000  725.671805  -27.432819  0.505917 0.605201           86.0          256.0           250.0            84.0\n",
      "Ensamble Classification        139          1000  591.442413  -40.855759  0.470414 0.568675           82.0          236.0           254.0           104.0\n",
      "    Ensamble Regression         38          1000  580.449995  -41.955001  0.505917 0.652083           29.0          313.0           307.0            27.0\n",
      "    Ensamble Statistics         23          1000  725.671805  -27.432819  0.505917 0.605201           86.0          256.0           250.0            84.0\n",
      "                 buying        103          1000  507.896930  -49.210307  0.477811 0.598407           60.0          263.0           276.0            77.0\n",
      "                buying2        139          1000  591.442413  -40.855759  0.470414 0.568675           82.0          236.0           254.0           104.0\n",
      "           Buy and Hold          1          1000  513.129103  -48.687090       NaN      NaN            NaN            NaN             NaN             NaN\n",
      "\n"
     ]
    }
   ],
   "source": [
    "import os \n",
    "import pandas as pd\n",
    "# print(\"Operations History:        \\n\", operationsHistory.to_string(index=False))\n",
    "\n",
    "path = \"../Results/test/logs/class\"\n",
    "files = os.listdir(path)\n",
    "for file in files:\n",
    "    if file.endswith(\".csv\"):\n",
    "        print(f\"================================================ {file} ===========================================================\")\n",
    "        df = pd.read_csv(path+\"/\"+file, sep=\";\")\n",
    "        print(df.to_string(index=False), end=\"\\n\\n\")\n"
   ]
  },
  {
   "cell_type": "markdown",
   "metadata": {},
   "source": [
    "## Exibe logs para estratégias implementadas"
   ]
  },
  {
   "cell_type": "code",
   "execution_count": 10,
   "metadata": {},
   "outputs": [
    {
     "name": "stdout",
     "output_type": "stream",
     "text": [
      "================================================ ensamble2_buying.csv ===========================================================\n",
      "                        model  qtdBuying  inirialValue  finalValue  percentual\n",
      "    strat_TCC_PETR4_B_0_30min         48          1000 1347.181726   34.718173\n",
      "strat_hurwicz_PETR4_B_0_30min          1          1000 1290.607735   29.060773\n",
      "                 Buy and Hold          1          1000 1310.886644   31.088664\n",
      "    strat_TCC_PETR4_B_0_15min        572          1000  952.374055   -4.762595\n",
      "strat_hurwicz_PETR4_B_0_15min          1          1000  794.938918  -20.506108\n",
      "                 Buy and Hold          1          1000  801.231310  -19.876869\n",
      "    strat_TCC_PETR4_B_0_60min        139          1000  591.442413  -40.855759\n",
      "strat_hurwicz_PETR4_B_0_60min          0          1000 1000.000000    0.000000\n",
      "                 Buy and Hold          1          1000  513.129103  -48.687090\n",
      "\n",
      "================================================ regression_buying.csv ===========================================================\n",
      "                        model  qtdBuying  inirialValue  finalValue  percentual\n",
      "    strat_TCC_PETR4_B_0_15min          2          1000  796.425126  -20.357487\n",
      "strat_hurwicz_PETR4_B_0_15min          0          1000 1000.000000    0.000000\n",
      "                 Buy and Hold          1          1000  801.231310  -19.876869\n",
      "    strat_TCC_PETR4_B_0_60min         38          1000  580.449995  -41.955001\n",
      "strat_hurwicz_PETR4_B_0_60min          0          1000 1000.000000    0.000000\n",
      "                 Buy and Hold          1          1000  513.129103  -48.687090\n",
      "    strat_TCC_PETR4_B_0_30min          5          1000 1171.470821   17.147082\n",
      "strat_hurwicz_PETR4_B_0_30min          0          1000 1000.000000    0.000000\n",
      "                 Buy and Hold          1          1000 1310.886644   31.088664\n",
      "\n",
      "================================================ classification_buying.csv ===========================================================\n",
      "                        model  qtdBuying  inirialValue  finalValue  percentual\n",
      "    strat_TCC_PETR4_B_0_15min        591          1000  942.344759   -5.765524\n",
      "strat_hurwicz_PETR4_B_0_15min          0          1000 1000.000000    0.000000\n",
      "                 Buy and Hold          1          1000  801.231310  -19.876869\n",
      "    strat_TCC_PETR4_B_0_60min        139          1000  591.442413  -40.855759\n",
      "strat_hurwicz_PETR4_B_0_60min          0          1000 1000.000000    0.000000\n",
      "                 Buy and Hold          1          1000  513.129103  -48.687090\n",
      "    strat_TCC_PETR4_B_0_30min        223          1000 1411.542006   41.154201\n",
      "strat_hurwicz_PETR4_B_0_30min          0          1000 1000.000000    0.000000\n",
      "                 Buy and Hold          1          1000 1310.886644   31.088664\n",
      "\n",
      "================================================ ensamble1_buying.csv ===========================================================\n",
      "                        model  qtdBuying  inirialValue  finalValue  percentual\n",
      "    strat_TCC_PETR4_B_0_30min         66          1000 1220.134094   22.013409\n",
      "strat_hurwicz_PETR4_B_0_30min          1          1000 1290.607735   29.060773\n",
      "                 Buy and Hold          1          1000 1310.886644   31.088664\n",
      "    strat_TCC_PETR4_B_0_15min        316          1000  822.494814  -17.750519\n",
      "strat_hurwicz_PETR4_B_0_15min          1          1000  794.938918  -20.506108\n",
      "                 Buy and Hold          1          1000  801.231310  -19.876869\n",
      "    strat_TCC_PETR4_B_0_60min        103          1000  507.896930  -49.210307\n",
      "strat_hurwicz_PETR4_B_0_60min          0          1000 1000.000000    0.000000\n",
      "                 Buy and Hold          1          1000  513.129103  -48.687090\n",
      "\n",
      "================================================ statistic_buying.csv ===========================================================\n",
      "                        model  qtdBuying  inirialValue  finalValue  percentual\n",
      "    strat_TCC_PETR4_B_0_15min         92          1000  944.296666   -5.570333\n",
      "strat_hurwicz_PETR4_B_0_15min          0          1000 1000.000000    0.000000\n",
      "                 Buy and Hold          1          1000  801.231310  -19.876869\n",
      "    strat_TCC_PETR4_B_0_60min         23          1000  725.671805  -27.432819\n",
      "strat_hurwicz_PETR4_B_0_60min          0          1000 1000.000000    0.000000\n",
      "                 Buy and Hold          1          1000  513.129103  -48.687090\n",
      "    strat_TCC_PETR4_B_0_30min         54          1000  987.516391   -1.248361\n",
      "strat_hurwicz_PETR4_B_0_30min          0          1000 1000.000000    0.000000\n",
      "                 Buy and Hold          1          1000 1310.886644   31.088664\n",
      "\n"
     ]
    }
   ],
   "source": [
    "import os \n",
    "import pandas as pd\n",
    "# print(\"Operations History:        \\n\", operationsHistory.to_string(index=False))\n",
    "\n",
    "path = \"../Results/test/logs/economic\"\n",
    "files = os.listdir(path)\n",
    "for file in files:\n",
    "    if file.endswith(\".csv\"):\n",
    "        print(f\"================================================ {file} ===========================================================\")\n",
    "        df = pd.read_csv(path+\"/\"+file, sep=\";\")\n",
    "        print(df.to_string(index=False), end=\"\\n\\n\")"
   ]
  }
 ],
 "metadata": {
  "kernelspec": {
   "display_name": "Python 3",
   "language": "python",
   "name": "python3"
  },
  "language_info": {
   "codemirror_mode": {
    "name": "ipython",
    "version": 3
   },
   "file_extension": ".py",
   "mimetype": "text/x-python",
   "name": "python",
   "nbconvert_exporter": "python",
   "pygments_lexer": "ipython3",
   "version": "3.10.12"
  },
  "orig_nbformat": 4
 },
 "nbformat": 4,
 "nbformat_minor": 2
}
