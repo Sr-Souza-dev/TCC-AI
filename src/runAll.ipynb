{
 "cells": [
  {
   "cell_type": "markdown",
   "metadata": {},
   "source": [
    "### Instala todas as Dependências do projeto"
   ]
  },
  {
   "cell_type": "code",
   "execution_count": null,
   "metadata": {},
   "outputs": [],
   "source": [
    "%pip install pandas\n",
    "%pip install scikit-learn\n",
    "%pip install scipy\n",
    "%pip install enum\n",
    "%pip install enum34\n",
    "%pip install numpy\n",
    "%pip install matplotlib\n",
    "%pip install statsmodels\n",
    "%pip install arch\n",
    "%pip install tensorflow\n",
    "%pip install keras-tuner\n",
    "%pip install joblib\n",
    "%pip install gitpython"
   ]
  },
  {
   "cell_type": "markdown",
   "metadata": {},
   "source": [
    "### Versões de bibliotecas utilizadas"
   ]
  },
  {
   "cell_type": "code",
   "execution_count": null,
   "metadata": {},
   "outputs": [],
   "source": [
    "import pandas as pd\n",
    "import numpy  as np\n",
    "import sklearn as sk\n",
    "import matplotlib as mt\n",
    "import sys\n",
    "\n",
    "print(\"Python:  \", sys.version)\n",
    "print(\"Pandas:  \", pd.__version__)\n",
    "print(\"Numpy:   \", np.__version__)\n",
    "print(\"Matplt:  \", mt.__version__)\n",
    "print(\"Sklearn: \", sk.__version__)"
   ]
  },
  {
   "cell_type": "markdown",
   "metadata": {},
   "source": [
    "### Define as Variaveis de execução do código"
   ]
  },
  {
   "cell_type": "code",
   "execution_count": null,
   "metadata": {},
   "outputs": [],
   "source": [
    "# dataNames = [\n",
    "#     \"PETR3_B_0_1min\", \"PETR3_B_0_5min\", \"PETR3_B_0_15min\", \"PETR3_B_0_30min\", \"PETR3_B_0_60min\",\n",
    "#     \"PETR4_B_0_1min\", \"PETR4_B_0_5min\", \"PETR4_B_0_15min\", \"PETR4_B_0_30min\", \"PETR4_B_0_60min\",\n",
    "#     \"WDOFUT_F_0_1min\", \"WDOFUT_F_0_5min\", \"WDOFUT_F_0_15min\", \"WDOFUT_F_0_30min\", \"WDOFUT_F_0_60min\",\n",
    "#     \"WINFUT_F_0_1min\", \"WINFUT_F_0_5min\", \"WINFUT_F_0_15min\", \"WINFUT_F_0_30min\", \"WINFUT_F_0_60min\",\n",
    "# ]\n",
    "\n",
    "dataNames = [\n",
    "    \"PETR3_B_0_60min\",\n",
    "    \"WINFUT_F_0_60min\",\n",
    "    \"WDOFUT_F_0_60min\",\n",
    "\n",
    "    \"PETR3_B_0_30min\",\n",
    "    \"WINFUT_F_0_30min\",\n",
    "    \"WDOFUT_F_0_30min\",\n",
    "]\n",
    "\n",
    "setDivision = [0.1, 0.7, 0.2]              # Size of the [optimization, train, test] set\n",
    "outputName  = \"Fechamento\"                 # Name of the output variable0\n",
    "\n",
    "# [\"PETR3_B_0_60min\", \"PETR4_B_0_15min\",]"
   ]
  },
  {
   "cell_type": "markdown",
   "metadata": {},
   "source": [
    "### Executa o código em paralelo"
   ]
  },
  {
   "cell_type": "code",
   "execution_count": null,
   "metadata": {},
   "outputs": [],
   "source": [
    "from joblib import Parallel, delayed\n",
    "from executeAll import getDatabase, getOptmizedModels, trainModels, getEnsambles, getResults, RunSolution, commit_and_push\n",
    "from datetime import datetime\n",
    "\n",
    "# results = Parallel(n_jobs=-1)(delayed(RunSolution)(dataName, outputName, setDivision) for dataName in dataNames)\n",
    "# print(results)\n",
    "commit_and_push(f\"Variaveis definidas {datetime.now()}\")"
   ]
  },
  {
   "cell_type": "markdown",
   "metadata": {},
   "source": [
    "#### Gera a base de dados"
   ]
  },
  {
   "cell_type": "code",
   "execution_count": null,
   "metadata": {},
   "outputs": [],
   "source": [
    "Parallel(n_jobs=-1)(delayed(getDatabase)(dataName, outputName, setDivision) for dataName in dataNames)\n",
    "commit_and_push(f\"database generated {datetime.now()}\")"
   ]
  },
  {
   "cell_type": "markdown",
   "metadata": {},
   "source": [
    "#### Obtendo modelos otimizados"
   ]
  },
  {
   "cell_type": "code",
   "execution_count": 1,
   "metadata": {},
   "outputs": [
    {
     "name": "stderr",
     "output_type": "stream",
     "text": [
      "2023-11-28 10:54:36.608638: I tensorflow/tsl/cuda/cudart_stub.cc:28] Could not find cuda drivers on your machine, GPU will not be used.\n",
      "2023-11-28 10:54:37.264902: I tensorflow/tsl/cuda/cudart_stub.cc:28] Could not find cuda drivers on your machine, GPU will not be used.\n",
      "2023-11-28 10:54:39.499865: W tensorflow/compiler/tf2tensorrt/utils/py_utils.cc:38] TF-TRT Warning: Could not find TensorRT\n"
     ]
    },
    {
     "name": "stdout",
     "output_type": "stream",
     "text": [
      "Using TensorFlow backend\n"
     ]
    },
    {
     "name": "stderr",
     "output_type": "stream",
     "text": [
      "2023-11-28 10:54:44.167686: I tensorflow/tsl/cuda/cudart_stub.cc:28] Could not find cuda drivers on your machine, GPU will not be used.\n",
      "2023-11-28 10:54:44.226040: I tensorflow/tsl/cuda/cudart_stub.cc:28] Could not find cuda drivers on your machine, GPU will not be used.\n",
      "2023-11-28 10:54:44.240884: I tensorflow/tsl/cuda/cudart_stub.cc:28] Could not find cuda drivers on your machine, GPU will not be used.\n",
      "2023-11-28 10:54:44.298937: I tensorflow/tsl/cuda/cudart_stub.cc:28] Could not find cuda drivers on your machine, GPU will not be used.\n",
      "2023-11-28 10:54:44.535069: I tensorflow/tsl/cuda/cudart_stub.cc:28] Could not find cuda drivers on your machine, GPU will not be used.\n",
      "2023-11-28 10:54:44.596850: I tensorflow/tsl/cuda/cudart_stub.cc:28] Could not find cuda drivers on your machine, GPU will not be used.\n",
      "2023-11-28 10:54:44.908645: I tensorflow/tsl/cuda/cudart_stub.cc:28] Could not find cuda drivers on your machine, GPU will not be used.\n",
      "2023-11-28 10:54:44.971594: I tensorflow/tsl/cuda/cudart_stub.cc:28] Could not find cuda drivers on your machine, GPU will not be used.\n",
      "2023-11-28 10:54:45.356255: W tensorflow/compiler/tf2tensorrt/utils/py_utils.cc:38] TF-TRT Warning: Could not find TensorRT\n",
      "2023-11-28 10:54:45.625623: W tensorflow/compiler/tf2tensorrt/utils/py_utils.cc:38] TF-TRT Warning: Could not find TensorRT\n",
      "2023-11-28 10:54:45.932941: W tensorflow/compiler/tf2tensorrt/utils/py_utils.cc:38] TF-TRT Warning: Could not find TensorRT\n",
      "2023-11-28 10:54:46.298434: W tensorflow/compiler/tf2tensorrt/utils/py_utils.cc:38] TF-TRT Warning: Could not find TensorRT\n"
     ]
    },
    {
     "name": "stdout",
     "output_type": "stream",
     "text": [
      "Using TensorFlow backend\n",
      "    | Etapa 2 PETR3_B_0_60min - Obtendo modelos otimizados!\n",
      "        - Etapa 2.3 PETR3_B_0_60min - Obtendo modelos de regressão otimizados\n",
      "             -- PETR3_B_0_60min - Inicio da otimização dos modelos de Classificação \n",
      "                PETR3_B_0_60min - X_train: (2728, 4) | X_test: (2728, 4) | Y_train: (2728,) | Y_test: (2728,)\n",
      "                 * PETR3_B_0_60min - MLP\n",
      "Fitting 3 folds for each of 144 candidates, totalling 432 fits\n",
      "Using TensorFlow backend\n",
      "Using TensorFlow backend\n",
      "    | Etapa 2 WDOFUT_F_0_60min - Obtendo modelos otimizados!\n",
      "        - Etapa 2.3 WDOFUT_F_0_60min - Obtendo modelos de regressão otimizados\n",
      "             -- WDOFUT_F_0_60min - Inicio da otimização dos modelos de Classificação \n",
      "                WDOFUT_F_0_60min - X_train: (3206, 4) | X_test: (3206, 4) | Y_train: (3206,) | Y_test: (3206,)\n",
      "                 * WDOFUT_F_0_60min - MLP\n",
      "Fitting 3 folds for each of 144 candidates, totalling 432 fits\n",
      "    | Etapa 2 WINFUT_F_0_60min - Obtendo modelos otimizados!\n",
      "        - Etapa 2.3 WINFUT_F_0_60min - Obtendo modelos de regressão otimizados\n",
      "Using TensorFlow backend\n",
      "             -- WINFUT_F_0_60min - Inicio da otimização dos modelos de Classificação \n",
      "                WINFUT_F_0_60min - X_train: (3205, 4) | X_test: (3205, 4) | Y_train: (3205,) | Y_test: (3205,)\n",
      "                 * WINFUT_F_0_60min - MLP\n",
      "Fitting 3 folds for each of 144 candidates, totalling 432 fits\n",
      "    | Etapa 2 PETR3_B_0_30min - Obtendo modelos otimizados!\n",
      "        - Etapa 2.3 PETR3_B_0_30min - Obtendo modelos de regressão otimizados\n",
      "             -- PETR3_B_0_30min - Inicio da otimização dos modelos de Classificação \n",
      "                PETR3_B_0_30min - X_train: (5364, 4) | X_test: (5364, 4) | Y_train: (5364,) | Y_test: (5364,)\n",
      "                 * PETR3_B_0_30min - MLP\n",
      "Fitting 3 folds for each of 144 candidates, totalling 432 fits\n",
      "                 * PETR3_B_0_60min - SVR \n",
      "Fitting 3 folds for each of 36 candidates, totalling 108 fits\n",
      "                 * WINFUT_F_0_60min - SVR \n",
      "Fitting 3 folds for each of 36 candidates, totalling 108 fits\n",
      "                 * WDOFUT_F_0_60min - SVR \n",
      "Fitting 3 folds for each of 36 candidates, totalling 108 fits\n",
      "                 * PETR3_B_0_30min - SVR \n",
      "Fitting 3 folds for each of 36 candidates, totalling 108 fits\n",
      "                 * PETR3_B_0_60min - RF\n",
      "Fitting 3 folds for each of 720 candidates, totalling 2160 fits\n",
      "    | Etapa 2 PETR3_B_0_60min - Time: 8454.045109987259\n",
      "    | Etapa 2 WINFUT_F_0_30min - Obtendo modelos otimizados!\n",
      "        - Etapa 2.3 WINFUT_F_0_30min - Obtendo modelos de regressão otimizados\n",
      "             -- WINFUT_F_0_30min - Inicio da otimização dos modelos de Classificação \n",
      "                WINFUT_F_0_30min - X_train: (6440, 4) | X_test: (6440, 4) | Y_train: (6440,) | Y_test: (6440,)\n",
      "                 * WINFUT_F_0_30min - MLP\n",
      "Fitting 3 folds for each of 144 candidates, totalling 432 fits\n",
      "                 * WINFUT_F_0_30min - SVR \n",
      "Fitting 3 folds for each of 36 candidates, totalling 108 fits\n",
      "                 * PETR3_B_0_30min - RF\n",
      "Fitting 3 folds for each of 720 candidates, totalling 2160 fits\n",
      "    | Etapa 2 PETR3_B_0_30min - Time: 35934.02074766159\n",
      "    | Etapa 2 WDOFUT_F_0_30min - Obtendo modelos otimizados!\n",
      "        - Etapa 2.3 WDOFUT_F_0_30min - Obtendo modelos de regressão otimizados\n",
      "             -- WDOFUT_F_0_30min - Inicio da otimização dos modelos de Classificação \n",
      "                WDOFUT_F_0_30min - X_train: (6439, 4) | X_test: (6439, 4) | Y_train: (6439,) | Y_test: (6439,)\n",
      "                 * WDOFUT_F_0_30min - MLP\n",
      "Fitting 3 folds for each of 144 candidates, totalling 432 fits\n",
      "                 * WINFUT_F_0_60min - RF\n",
      "Fitting 3 folds for each of 720 candidates, totalling 2160 fits\n",
      "                 * WDOFUT_F_0_30min - SVR \n",
      "Fitting 3 folds for each of 36 candidates, totalling 108 fits\n",
      "                 * WDOFUT_F_0_30min - RF\n",
      "Fitting 3 folds for each of 720 candidates, totalling 2160 fits\n",
      "    | Etapa 2 WINFUT_F_0_60min - Time: 39062.058117866516\n",
      "    | Etapa 2 WDOFUT_F_0_30min - Time: 7213.368268251419\n",
      "                 * WINFUT_F_0_30min - RF\n",
      "Fitting 3 folds for each of 720 candidates, totalling 2160 fits\n",
      "                 * WDOFUT_F_0_60min - RF\n",
      "Fitting 3 folds for each of 720 candidates, totalling 2160 fits\n",
      "    | Etapa 2 WDOFUT_F_0_60min - Time: 57389.24161171913\n",
      "    | Etapa 2 WINFUT_F_0_30min - Time: 48995.657794713974\n",
      "Commit e push bem-sucedidos.\n"
     ]
    }
   ],
   "source": [
    "Parallel(n_jobs=-1)(delayed(getOptmizedModels)(dataName, setDivision) for dataName in dataNames)\n",
    "commit_and_push(f\"models optimized {datetime.now()}\")"
   ]
  },
  {
   "cell_type": "markdown",
   "metadata": {},
   "source": [
    "#### Treinando modelos"
   ]
  },
  {
   "cell_type": "code",
   "execution_count": 2,
   "metadata": {},
   "outputs": [
    {
     "name": "stdout",
     "output_type": "stream",
     "text": [
      "    | Etapa 3 PETR3_B_0_60min - Obtendo modelos já otimizados!\n",
      "    | Etapa 3 WINFUT_F_0_60min - Obtendo modelos já otimizados!\n",
      "    | Etapa 4 PETR3_B_0_60min - Treinando modelos!\n",
      "    | Etapa 3 WDOFUT_F_0_60min - Obtendo modelos já otimizados!\n",
      "    | Etapa 3 PETR3_B_0_30min - Obtendo modelos já otimizados!\n",
      "    | Etapa 4 PETR3_B_0_30min - Treinando modelos!\n",
      "    | Etapa 4 WDOFUT_F_0_60min - Treinando modelos!\n",
      "        - Etapa 4.2 PETR3_B_0_30min - Treinando modelos de regressão\n",
      "        - Etapa 4.2 PETR3_B_0_60min - Treinando modelos de regressão\n",
      "    | Etapa 4 WINFUT_F_0_60min - Treinando modelos!\n",
      "        - Etapa 4.2 WDOFUT_F_0_60min - Treinando modelos de regressão\n",
      "        - Etapa 4.2 WINFUT_F_0_60min - Treinando modelos de regressão\n",
      "    | Etapa 4 PETR3_B_0_60min - Time: 0.4055478572845459\n",
      "    | Etapa 3 WINFUT_F_0_30min - Obtendo modelos já otimizados!\n",
      "    | Etapa 4 WINFUT_F_0_30min - Treinando modelos!\n",
      "        - Etapa 4.2 WINFUT_F_0_30min - Treinando modelos de regressão\n",
      "    | Etapa 4 WDOFUT_F_0_60min - Time: 0.6132369041442871\n",
      "    | Etapa 3 WDOFUT_F_0_30min - Obtendo modelos já otimizados!\n",
      "    | Etapa 4 WDOFUT_F_0_30min - Treinando modelos!\n",
      "        - Etapa 4.2 WDOFUT_F_0_30min - Treinando modelos de regressão\n",
      "    | Etapa 4 WINFUT_F_0_60min - Time: 0.7511422634124756\n",
      "    | Etapa 4 PETR3_B_0_30min - Time: 1.0222339630126953\n",
      "    | Etapa 4 WINFUT_F_0_30min - Time: 1.389157772064209\n",
      "    | Etapa 4 WDOFUT_F_0_30min - Time: 1.4310626983642578\n",
      "Commit e push bem-sucedidos.\n"
     ]
    }
   ],
   "source": [
    "Parallel(n_jobs=-1)(delayed(trainModels)(dataName, setDivision) for dataName in dataNames)\n",
    "commit_and_push(f\"models trained {datetime.now()}\")"
   ]
  },
  {
   "cell_type": "markdown",
   "metadata": {},
   "source": [
    "#### Obtendo ensambles"
   ]
  },
  {
   "cell_type": "code",
   "execution_count": 1,
   "metadata": {},
   "outputs": [
    {
     "name": "stderr",
     "output_type": "stream",
     "text": [
      "2023-11-29 08:52:18.484999: I tensorflow/tsl/cuda/cudart_stub.cc:28] Could not find cuda drivers on your machine, GPU will not be used.\n",
      "2023-11-29 08:52:18.541759: I tensorflow/tsl/cuda/cudart_stub.cc:28] Could not find cuda drivers on your machine, GPU will not be used.\n",
      "2023-11-29 08:52:19.547164: W tensorflow/compiler/tf2tensorrt/utils/py_utils.cc:38] TF-TRT Warning: Could not find TensorRT\n"
     ]
    },
    {
     "name": "stdout",
     "output_type": "stream",
     "text": [
      "Using TensorFlow backend\n"
     ]
    },
    {
     "name": "stderr",
     "output_type": "stream",
     "text": [
      "2023-11-29 08:52:23.302932: I tensorflow/tsl/cuda/cudart_stub.cc:28] Could not find cuda drivers on your machine, GPU will not be used.\n",
      "2023-11-29 08:52:23.342477: I tensorflow/tsl/cuda/cudart_stub.cc:28] Could not find cuda drivers on your machine, GPU will not be used.\n",
      "2023-11-29 08:52:23.359786: I tensorflow/tsl/cuda/cudart_stub.cc:28] Could not find cuda drivers on your machine, GPU will not be used.\n",
      "2023-11-29 08:52:23.399862: I tensorflow/tsl/cuda/cudart_stub.cc:28] Could not find cuda drivers on your machine, GPU will not be used.\n",
      "2023-11-29 08:52:23.482926: I tensorflow/tsl/cuda/cudart_stub.cc:28] Could not find cuda drivers on your machine, GPU will not be used.\n",
      "2023-11-29 08:52:23.593382: I tensorflow/tsl/cuda/cudart_stub.cc:28] Could not find cuda drivers on your machine, GPU will not be used.\n",
      "2023-11-29 08:52:23.994677: I tensorflow/tsl/cuda/cudart_stub.cc:28] Could not find cuda drivers on your machine, GPU will not be used.\n",
      "2023-11-29 08:52:24.064456: I tensorflow/tsl/cuda/cudart_stub.cc:28] Could not find cuda drivers on your machine, GPU will not be used.\n",
      "2023-11-29 08:52:24.471726: W tensorflow/compiler/tf2tensorrt/utils/py_utils.cc:38] TF-TRT Warning: Could not find TensorRT\n",
      "2023-11-29 08:52:24.611531: W tensorflow/compiler/tf2tensorrt/utils/py_utils.cc:38] TF-TRT Warning: Could not find TensorRT\n",
      "2023-11-29 08:52:24.867451: W tensorflow/compiler/tf2tensorrt/utils/py_utils.cc:38] TF-TRT Warning: Could not find TensorRT\n",
      "2023-11-29 08:52:25.403314: W tensorflow/compiler/tf2tensorrt/utils/py_utils.cc:38] TF-TRT Warning: Could not find TensorRT\n"
     ]
    },
    {
     "name": "stdout",
     "output_type": "stream",
     "text": [
      "Using TensorFlow backend\n",
      "    | Etapa 5 WINFUT_F_0_60min - Obtendo ensambles!\n",
      "Reloading Tuner from optmz/modelWINFUT_F_0_60min/buying/tuner0.json\n",
      "Using TensorFlow backend\n",
      "Using TensorFlow backend\n",
      "    | Etapa 5 PETR3_B_0_60min - Obtendo ensambles!\n",
      "Reloading Tuner from optmz/modelPETR3_B_0_60min/buying/tuner0.json\n",
      "    | Etapa 5 PETR3_B_0_30min - Obtendo ensambles!\n",
      "Reloading Tuner from optmz/modelPETR3_B_0_30min/buying/tuner0.json\n",
      "Using TensorFlow backend\n",
      "    | Etapa 5 WDOFUT_F_0_60min - Obtendo ensambles!\n",
      "Reloading Tuner from optmz/modelWDOFUT_F_0_60min/buying/tuner0.json\n",
      "22/22 [==============================] - 0s 1ms/step\n",
      "                 * PETR3_B_0_60min - SVR \n",
      "Fitting 3 folds for each of 36 candidates, totalling 108 fits\n",
      "26/26 [==============================] - 0s 1ms/step\n",
      "                 * WINFUT_F_0_60min - SVR \n",
      "Fitting 3 folds for each of 36 candidates, totalling 108 fits\n",
      "Reloading Tuner from optmz/modelPETR3_B_0_60min/buying2/tuner0.json\n",
      "26/26 [==============================] - 0s 1ms/step\n",
      "                 * WDOFUT_F_0_60min - SVR \n",
      "Fitting 3 folds for each of 36 candidates, totalling 108 fits\n",
      "Reloading Tuner from optmz/modelWDOFUT_F_0_60min/buying2/tuner0.json\n",
      "42/42 [==============================] - 0s 2ms/step\n",
      "                 * PETR3_B_0_30min - SVR \n",
      "Fitting 3 folds for each of 36 candidates, totalling 108 fits\n",
      "Reloading Tuner from optmz/modelPETR3_B_0_30min/buying2/tuner0.json\n",
      "22/22 [==============================] - 0s 2ms/step\n",
      "                 * PETR3_B_0_60min - SVR \n",
      "Fitting 3 folds for each of 36 candidates, totalling 108 fits\n",
      "    | Etapa 5 PETR3_B_0_60min - Time: 60.42097568511963\n",
      "    | Etapa 5 WINFUT_F_0_30min - Obtendo ensambles!\n",
      "Reloading Tuner from optmz/modelWINFUT_F_0_30min/buying/tuner0.json\n",
      "26/26 [==============================] - 0s 2ms/step\n",
      "                 * WDOFUT_F_0_60min - SVR \n",
      "Fitting 3 folds for each of 36 candidates, totalling 108 fits\n",
      "    | Etapa 5 WDOFUT_F_0_60min - Time: 72.31048798561096\n",
      "    | Etapa 5 WDOFUT_F_0_30min - Obtendo ensambles!\n",
      "Reloading Tuner from optmz/modelWDOFUT_F_0_30min/buying/tuner0.json\n"
     ]
    },
    {
     "name": "stderr",
     "output_type": "stream",
     "text": [
      "/home/sr-souza/.local/lib/python3.10/site-packages/keras_tuner/src/engine/oracle.py:101: DeprecationWarning: currentThread() is deprecated, use current_thread() instead\n",
      "  thread_name = threading.currentThread().getName()\n",
      "/home/sr-souza/.local/lib/python3.10/site-packages/keras_tuner/src/engine/oracle.py:101: DeprecationWarning: getName() is deprecated, get the name attribute instead\n",
      "  thread_name = threading.currentThread().getName()\n"
     ]
    },
    {
     "name": "stdout",
     "output_type": "stream",
     "text": [
      "42/42 [==============================] - 0s 3ms/step\n",
      "                 * PETR3_B_0_30min - SVR \n",
      "Fitting 3 folds for each of 36 candidates, totalling 108 fits\n",
      "    | Etapa 5 PETR3_B_0_30min - Time: 107.51068925857544\n",
      "51/51 [==============================] - 0s 1ms/step\n",
      "                 * WINFUT_F_0_30min - SVR \n",
      "Fitting 3 folds for each of 36 candidates, totalling 108 fits\n",
      "    | ERRO - Etapa 5 WINFUT_F_0_30min (Obtendo ensambles)\n",
      "        - Input X contains NaN.\n",
      "SVC does not accept missing values encoded as NaN natively. For supervised learning, you might want to consider sklearn.ensemble.HistGradientBoostingClassifier and Regressor which accept missing values encoded as NaNs natively. Alternatively, it is possible to preprocess the data, for instance by using an imputer transformer in a pipeline or drop samples with missing values. See https://scikit-learn.org/stable/modules/impute.html You can find a list of all estimators that handle NaN values at the following page: https://scikit-learn.org/stable/modules/impute.html#estimators-that-handle-nan-values\n",
      "51/51 [==============================] - 0s 894us/step\n",
      "                 * WDOFUT_F_0_30min - SVR \n",
      "Fitting 3 folds for each of 36 candidates, totalling 108 fits\n",
      "    | ERRO - Etapa 5 WDOFUT_F_0_30min (Obtendo ensambles)\n",
      "        - Input X contains NaN.\n",
      "SVC does not accept missing values encoded as NaN natively. For supervised learning, you might want to consider sklearn.ensemble.HistGradientBoostingClassifier and Regressor which accept missing values encoded as NaNs natively. Alternatively, it is possible to preprocess the data, for instance by using an imputer transformer in a pipeline or drop samples with missing values. See https://scikit-learn.org/stable/modules/impute.html You can find a list of all estimators that handle NaN values at the following page: https://scikit-learn.org/stable/modules/impute.html#estimators-that-handle-nan-values\n",
      "Reloading Tuner from optmz/modelWINFUT_F_0_60min/buying2/tuner0.json\n",
      "26/26 [==============================] - 0s 985us/step\n",
      "                 * WINFUT_F_0_60min - SVR \n",
      "Fitting 3 folds for each of 36 candidates, totalling 108 fits\n"
     ]
    },
    {
     "ename": "KeyboardInterrupt",
     "evalue": "",
     "output_type": "error",
     "traceback": [
      "\u001b[0;31m---------------------------------------------------------------------------\u001b[0m",
      "\u001b[0;31mKeyboardInterrupt\u001b[0m                         Traceback (most recent call last)",
      "\u001b[1;32m/home/sr-souza/Desktop/TCC-AI (Notebook)/src/runAll.ipynb Cell 16\u001b[0m line \u001b[0;36m1\n\u001b[1;32m     <a href='vscode-notebook-cell:/home/sr-souza/Desktop/TCC-AI%20%28Notebook%29/src/runAll.ipynb#X21sZmlsZQ%3D%3D?line=14'>15</a>\u001b[0m setDivision \u001b[39m=\u001b[39m [\u001b[39m0.1\u001b[39m, \u001b[39m0.7\u001b[39m, \u001b[39m0.2\u001b[39m]              \u001b[39m# Size of the [optimization, train, test] set\u001b[39;00m\n\u001b[1;32m     <a href='vscode-notebook-cell:/home/sr-souza/Desktop/TCC-AI%20%28Notebook%29/src/runAll.ipynb#X21sZmlsZQ%3D%3D?line=15'>16</a>\u001b[0m outputName  \u001b[39m=\u001b[39m \u001b[39m\"\u001b[39m\u001b[39mFechamento\u001b[39m\u001b[39m\"\u001b[39m                 \u001b[39m# Name of the output variable0\u001b[39;00m\n\u001b[0;32m---> <a href='vscode-notebook-cell:/home/sr-souza/Desktop/TCC-AI%20%28Notebook%29/src/runAll.ipynb#X21sZmlsZQ%3D%3D?line=17'>18</a>\u001b[0m Parallel(n_jobs\u001b[39m=\u001b[39;49m\u001b[39m-\u001b[39;49m\u001b[39m1\u001b[39;49m)(delayed(getEnsambles)(dataName, setDivision) \u001b[39mfor\u001b[39;49;00m dataName \u001b[39min\u001b[39;49;00m dataNames)\n\u001b[1;32m     <a href='vscode-notebook-cell:/home/sr-souza/Desktop/TCC-AI%20%28Notebook%29/src/runAll.ipynb#X21sZmlsZQ%3D%3D?line=18'>19</a>\u001b[0m commit_and_push(\u001b[39mf\u001b[39m\u001b[39m\"\u001b[39m\u001b[39mensambles done \u001b[39m\u001b[39m{\u001b[39;00mdatetime\u001b[39m.\u001b[39mnow()\u001b[39m}\u001b[39;00m\u001b[39m\"\u001b[39m)\n",
      "File \u001b[0;32m~/.local/lib/python3.10/site-packages/joblib/parallel.py:1944\u001b[0m, in \u001b[0;36mParallel.__call__\u001b[0;34m(self, iterable)\u001b[0m\n\u001b[1;32m   1938\u001b[0m \u001b[39m# The first item from the output is blank, but it makes the interpreter\u001b[39;00m\n\u001b[1;32m   1939\u001b[0m \u001b[39m# progress until it enters the Try/Except block of the generator and\u001b[39;00m\n\u001b[1;32m   1940\u001b[0m \u001b[39m# reach the first `yield` statement. This starts the aynchronous\u001b[39;00m\n\u001b[1;32m   1941\u001b[0m \u001b[39m# dispatch of the tasks to the workers.\u001b[39;00m\n\u001b[1;32m   1942\u001b[0m \u001b[39mnext\u001b[39m(output)\n\u001b[0;32m-> 1944\u001b[0m \u001b[39mreturn\u001b[39;00m output \u001b[39mif\u001b[39;00m \u001b[39mself\u001b[39m\u001b[39m.\u001b[39mreturn_generator \u001b[39melse\u001b[39;00m \u001b[39mlist\u001b[39;49m(output)\n",
      "File \u001b[0;32m~/.local/lib/python3.10/site-packages/joblib/parallel.py:1587\u001b[0m, in \u001b[0;36mParallel._get_outputs\u001b[0;34m(self, iterator, pre_dispatch)\u001b[0m\n\u001b[1;32m   1584\u001b[0m     \u001b[39myield\u001b[39;00m\n\u001b[1;32m   1586\u001b[0m     \u001b[39mwith\u001b[39;00m \u001b[39mself\u001b[39m\u001b[39m.\u001b[39m_backend\u001b[39m.\u001b[39mretrieval_context():\n\u001b[0;32m-> 1587\u001b[0m         \u001b[39myield from\u001b[39;00m \u001b[39mself\u001b[39m\u001b[39m.\u001b[39m_retrieve()\n\u001b[1;32m   1589\u001b[0m \u001b[39mexcept\u001b[39;00m \u001b[39mGeneratorExit\u001b[39;00m:\n\u001b[1;32m   1590\u001b[0m     \u001b[39m# The generator has been garbage collected before being fully\u001b[39;00m\n\u001b[1;32m   1591\u001b[0m     \u001b[39m# consumed. This aborts the remaining tasks if possible and warn\u001b[39;00m\n\u001b[1;32m   1592\u001b[0m     \u001b[39m# the user if necessary.\u001b[39;00m\n\u001b[1;32m   1593\u001b[0m     \u001b[39mself\u001b[39m\u001b[39m.\u001b[39m_exception \u001b[39m=\u001b[39m \u001b[39mTrue\u001b[39;00m\n",
      "File \u001b[0;32m~/.local/lib/python3.10/site-packages/joblib/parallel.py:1699\u001b[0m, in \u001b[0;36mParallel._retrieve\u001b[0;34m(self)\u001b[0m\n\u001b[1;32m   1694\u001b[0m \u001b[39m# If the next job is not ready for retrieval yet, we just wait for\u001b[39;00m\n\u001b[1;32m   1695\u001b[0m \u001b[39m# async callbacks to progress.\u001b[39;00m\n\u001b[1;32m   1696\u001b[0m \u001b[39mif\u001b[39;00m ((\u001b[39mlen\u001b[39m(\u001b[39mself\u001b[39m\u001b[39m.\u001b[39m_jobs) \u001b[39m==\u001b[39m \u001b[39m0\u001b[39m) \u001b[39mor\u001b[39;00m\n\u001b[1;32m   1697\u001b[0m     (\u001b[39mself\u001b[39m\u001b[39m.\u001b[39m_jobs[\u001b[39m0\u001b[39m]\u001b[39m.\u001b[39mget_status(\n\u001b[1;32m   1698\u001b[0m         timeout\u001b[39m=\u001b[39m\u001b[39mself\u001b[39m\u001b[39m.\u001b[39mtimeout) \u001b[39m==\u001b[39m TASK_PENDING)):\n\u001b[0;32m-> 1699\u001b[0m     time\u001b[39m.\u001b[39;49msleep(\u001b[39m0.01\u001b[39;49m)\n\u001b[1;32m   1700\u001b[0m     \u001b[39mcontinue\u001b[39;00m\n\u001b[1;32m   1702\u001b[0m \u001b[39m# We need to be careful: the job list can be filling up as\u001b[39;00m\n\u001b[1;32m   1703\u001b[0m \u001b[39m# we empty it and Python list are not thread-safe by\u001b[39;00m\n\u001b[1;32m   1704\u001b[0m \u001b[39m# default hence the use of the lock\u001b[39;00m\n",
      "\u001b[0;31mKeyboardInterrupt\u001b[0m: "
     ]
    }
   ],
   "source": [
    "from joblib import Parallel, delayed\n",
    "from executeAll import getDatabase, getOptmizedModels, trainModels, getEnsambles, getResults, RunSolution, commit_and_push\n",
    "from datetime import datetime\n",
    "\n",
    "dataNames = [\n",
    "    \"PETR3_B_0_60min\",\n",
    "    \"WINFUT_F_0_60min\",\n",
    "    \"WDOFUT_F_0_60min\",\n",
    "\n",
    "    \"PETR3_B_0_30min\",\n",
    "    \"WINFUT_F_0_30min\",\n",
    "    \"WDOFUT_F_0_30min\",\n",
    "]\n",
    "\n",
    "setDivision = [0.1, 0.7, 0.2]              # Size of the [optimization, train, test] set\n",
    "outputName  = \"Fechamento\"                 # Name of the output variable0\n",
    "\n",
    "Parallel(n_jobs=-1)(delayed(getEnsambles)(dataName, setDivision) for dataName in dataNames)\n",
    "commit_and_push(f\"ensambles done {datetime.now()}\")"
   ]
  },
  {
   "cell_type": "markdown",
   "metadata": {},
   "source": [
    "#### Obtendo resultados"
   ]
  },
  {
   "cell_type": "code",
   "execution_count": null,
   "metadata": {},
   "outputs": [
    {
     "name": "stdout",
     "output_type": "stream",
     "text": [
      "    | Etapa 6 PETR3_B_0_60min - Obtendo resultados!\n",
      "    | Etapa 6 WINFUT_F_0_60min - Obtendo resultados!\n",
      "    | ERRO - Etapa 6 WINFUT_F_0_60min (Obtendo resultados)\n",
      "        - [Errno 2] No such file or directory: '../Results/test/ensamble1/WINFUT_F_0_60min_SVR.csv'\n",
      "    | Etapa 6 WDOFUT_F_0_60min - Obtendo resultados!\n"
     ]
    },
    {
     "name": "stderr",
     "output_type": "stream",
     "text": [
      "2023-11-29 04:18:42.821459: I tensorflow/tsl/cuda/cudart_stub.cc:28] Could not find cuda drivers on your machine, GPU will not be used.\n",
      "2023-11-29 04:18:42.878295: I tensorflow/tsl/cuda/cudart_stub.cc:28] Could not find cuda drivers on your machine, GPU will not be used.\n",
      "2023-11-29 04:18:42.970410: I tensorflow/tsl/cuda/cudart_stub.cc:28] Could not find cuda drivers on your machine, GPU will not be used.\n",
      "2023-11-29 04:18:43.029745: I tensorflow/tsl/cuda/cudart_stub.cc:28] Could not find cuda drivers on your machine, GPU will not be used.\n"
     ]
    },
    {
     "name": "stdout",
     "output_type": "stream",
     "text": [
      "    | Etapa 6 WDOFUT_F_0_30min - Obtendo resultados!\n",
      "    | ERRO - Etapa 6 WDOFUT_F_0_30min (Obtendo resultados)\n",
      "        - [Errno 2] No such file or directory: '../Results/test/ensamble1/WDOFUT_F_0_30min_SVR.csv'\n"
     ]
    },
    {
     "name": "stderr",
     "output_type": "stream",
     "text": [
      "2023-11-29 04:18:43.938433: W tensorflow/compiler/tf2tensorrt/utils/py_utils.cc:38] TF-TRT Warning: Could not find TensorRT\n",
      "2023-11-29 04:18:44.092903: W tensorflow/compiler/tf2tensorrt/utils/py_utils.cc:38] TF-TRT Warning: Could not find TensorRT\n"
     ]
    },
    {
     "name": "stdout",
     "output_type": "stream",
     "text": [
      "Using TensorFlow backend\n",
      "Using TensorFlow backend\n",
      "    | Etapa 6 PETR3_B_0_30min - Obtendo resultados!\n",
      "    | Etapa 6 WINFUT_F_0_30min - Obtendo resultados!\n",
      "    | ERRO - Etapa 6 WINFUT_F_0_30min (Obtendo resultados)\n",
      "        - [Errno 2] No such file or directory: '../Results/test/ensamble1/WINFUT_F_0_30min_SVR.csv'\n",
      "Commit e push bem-sucedidos.\n"
     ]
    }
   ],
   "source": [
    "Parallel(n_jobs=-1)(delayed(getResults)(dataName, setDivision) for dataName in dataNames)\n",
    "commit_and_push(f\"results done {datetime.now()}\")"
   ]
  },
  {
   "cell_type": "markdown",
   "metadata": {},
   "source": [
    "### Testa as estrategias definidas"
   ]
  },
  {
   "cell_type": "code",
   "execution_count": null,
   "metadata": {},
   "outputs": [
    {
     "name": "stdout",
     "output_type": "stream",
     "text": [
      "gerando estrategias...\n",
      "Files: ['PETR3_B_0_1min_ensamble.csv', 'PETR4_B_0_15min_ensamble.csv', 'PETR4_B_0_60min_ensamble.csv', 'PETR3_B_0_30min_ensamble.csv', 'PETR3_B_0_1min_predictions.csv', 'WDOFUT_F_0_60min_ensamble.csv', 'WINFUT_F_0_60min_ensamble.csv', 'PETR3_B_0_5min_predictions.csv', 'WINFUT_F_0_30min_ensamble.csv', 'WINFUT_F_0_60min_predictions.csv', 'PETR3_B_0_5min_ensamble.csv', 'PETR3_B_0_60min_ensamble.csv', 'PETR3_B_0_15min_ensamble.csv', 'WDOFUT_F_0_30min_predictions.csv', 'PETR4_B_0_30min_ensamble.csv', 'PETR4_B_0_15min_predictions.csv', 'WINFUT_F_0_30min_predictions.csv', 'PETR4_B_0_60min_predictions.csv', 'WDOFUT_F_0_30min_ensamble.csv', 'PETR3_B_0_15min_predictions.csv', 'WDOFUT_F_0_60min_predictions.csv', 'PETR3_B_0_30min_predictions.csv', 'PETR3_B_0_60min_predictions.csv', 'PETR4_B_0_30min_predictions.csv'] \n",
      " Path: ../Results/test/classification \n",
      "\n",
      "Files: ['PETR3_B_0_60min_predictions_class.csv', 'PETR3_B_0_1min_ensamble.csv', 'PETR4_B_0_15min_ensamble.csv', 'PETR4_B_0_60min_ensamble.csv', 'PETR3_B_0_30min_ensamble.csv', 'PETR3_B_0_1min_predictions.csv', 'WDOFUT_F_0_60min_ensamble.csv', 'WINFUT_F_0_60min_ensamble.csv', 'PETR4_B_0_15min_predictions_class.csv', 'PETR3_B_0_5min_predictions.csv', 'WINFUT_F_0_30min_ensamble.csv', 'WINFUT_F_0_60min_predictions.csv', 'PETR3_B_0_5min_ensamble.csv', 'PETR3_B_0_5min_predictions_class.csv', 'PETR3_B_0_60min_ensamble.csv', 'PETR4_B_0_30min_predictions_class.csv', 'PETR3_B_0_15min_ensamble.csv', 'WDOFUT_F_0_30min_predictions.csv', 'WINFUT_F_0_60min_predictions_class.csv', 'WDOFUT_F_0_30min_predictions_class.csv', 'PETR4_B_0_30min_ensamble.csv', 'PETR4_B_0_15min_predictions.csv', 'PETR3_B_0_15min_predictions_class.csv', 'PETR3_B_0_30min_predictions_class.csv', 'WINFUT_F_0_30min_predictions.csv', 'PETR4_B_0_60min_predictions.csv', 'PETR4_B_0_60min_predictions_class.csv', 'WDOFUT_F_0_30min_ensamble.csv', 'PETR3_B_0_15min_predictions.csv', 'PETR3_B_0_1min_predictions_class.csv', 'WDOFUT_F_0_60min_predictions.csv', 'WINFUT_F_0_30min_predictions_class.csv', 'PETR3_B_0_30min_predictions.csv', 'PETR3_B_0_60min_predictions.csv', 'PETR4_B_0_30min_predictions.csv', 'WDOFUT_F_0_60min_predictions_class.csv'] \n",
      " Path: ../Results/test/regression \n",
      "\n",
      "Files: ['PETR3_B_0_60min_predictions_class.csv', 'PETR3_B_0_1min_ensamble.csv', 'PETR4_B_0_30min_Predictions.csv', 'PETR4_B_0_15min_ensamble.csv', 'PETR4_B_0_60min_ensamble.csv', 'PETR3_B_0_30min_ensamble.csv', 'PETR3_B_0_1min_predictions.csv', 'WDOFUT_F_0_60min_ensamble.csv', 'WINFUT_F_0_60min_ensamble.csv', 'PETR4_B_0_15min_predictions_class.csv', 'PETR3_B_0_5min_predictions.csv', 'WINFUT_F_0_30min_ensamble.csv', 'WINFUT_F_0_60min_predictions.csv', 'PETR3_B_0_5min_ensamble.csv', 'PETR3_B_0_5min_predictions_class.csv', 'PETR3_B_0_60min_ensamble.csv', 'PETR4_B_0_30min_predictions_class.csv', 'PETR3_B_0_15min_ensamble.csv', 'WDOFUT_F_0_30min_predictions.csv', 'WINFUT_F_0_60min_predictions_class.csv', 'WDOFUT_F_0_30min_predictions_class.csv', 'PETR4_B_0_30min_ensamble.csv', 'PETR4_B_0_15min_predictions.csv', 'PETR3_B_0_15min_predictions_class.csv', 'PETR3_B_0_30min_predictions_class.csv', 'WINFUT_F_0_30min_predictions.csv', 'PETR4_B_0_60min_predictions.csv', 'PETR4_B_0_60min_predictions_class.csv', 'WDOFUT_F_0_30min_ensamble.csv', 'PETR3_B_0_15min_predictions.csv', 'PETR3_B_0_1min_predictions_class.csv', 'WDOFUT_F_0_60min_predictions.csv', 'WINFUT_F_0_30min_predictions_class.csv', 'PETR3_B_0_30min_predictions.csv', 'PETR3_B_0_60min_predictions.csv', 'PETR4_B_0_30min_predictions.csv', 'WDOFUT_F_0_60min_predictions_class.csv'] \n",
      " Path: ../Results/test/statistic \n",
      "\n",
      "Files: ['PETR3_B_0_60min_SVR.csv', 'WDOFUT_F_0_60min_SVR.csv', 'WINFUT_F_0_30min.csv', 'PETR4_B_0_30min.csv', 'PETR3_B_0_30min_SVR.csv', 'PETR3_B_0_5min.csv', 'WDOFUT_F_0_60min.csv', 'PETR3_B_0_15min.csv', 'WDOFUT_F_0_30min.csv', 'PETR3_B_0_1min.csv', 'PETR3_B_0_60min.csv', 'PETR4_B_0_15min.csv', 'WINFUT_F_0_60min.csv', 'PETR3_B_0_30min.csv', 'PETR4_B_0_60min.csv'] \n",
      " Path: ../Results/test/ensamble1 \n",
      "\n",
      "Error: [Errno 2] No such file or directory: '../Data/Cut/dataset1/Y/Test_PETR3_B_0_60min_SVR.csv'\n",
      "Error: [Errno 2] No such file or directory: '../Data/Cut/dataset1/Y/Test_WDOFUT_F_0_60min_SVR.csv'\n",
      "Error: [Errno 2] No such file or directory: '../Data/Cut/dataset1/Y/Test_PETR3_B_0_30min_SVR.csv'\n",
      "Files: ['PETR3_B_0_60min_SVR.csv', 'WDOFUT_F_0_60min_SVR.csv', 'WINFUT_F_0_30min.csv', 'PETR4_B_0_30min.csv', 'PETR3_B_0_30min_SVR.csv', 'PETR3_B_0_5min.csv', 'WDOFUT_F_0_60min.csv', 'PETR3_B_0_15min.csv', 'WDOFUT_F_0_30min.csv', 'PETR3_B_0_1min.csv', 'PETR3_B_0_60min.csv', 'PETR4_B_0_15min.csv', 'WINFUT_F_0_60min.csv', 'PETR3_B_0_30min.csv', 'PETR4_B_0_60min.csv'] \n",
      " Path: ../Results/test/ensamble2 \n",
      "\n",
      "Error: [Errno 2] No such file or directory: '../Data/Cut/dataset1/Y/Test_PETR3_B_0_60min_SVR.csv'\n",
      "Error: [Errno 2] No such file or directory: '../Data/Cut/dataset1/Y/Test_WDOFUT_F_0_60min_SVR.csv'\n",
      "Error: [Errno 2] No such file or directory: '../Data/Cut/dataset1/Y/Test_PETR3_B_0_30min_SVR.csv'\n",
      "Commit e push bem-sucedidos.\n"
     ]
    }
   ],
   "source": [
    "from strategies import GetStrategies\n",
    "GetStrategies()\n",
    "commit_and_push(f\"strategies done {datetime.now()}\")"
   ]
  }
 ],
 "metadata": {
  "kernelspec": {
   "display_name": "Python 3",
   "language": "python",
   "name": "python3"
  },
  "language_info": {
   "codemirror_mode": {
    "name": "ipython",
    "version": 3
   },
   "file_extension": ".py",
   "mimetype": "text/x-python",
   "name": "python",
   "nbconvert_exporter": "python",
   "pygments_lexer": "ipython3",
   "version": "3.10.12"
  },
  "orig_nbformat": 4
 },
 "nbformat": 4,
 "nbformat_minor": 2
}
