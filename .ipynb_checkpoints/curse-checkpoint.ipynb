{
 "cells": [
  {
   "cell_type": "markdown",
   "id": "e0faeb2f",
   "metadata": {},
   "source": [
    "## Imports"
   ]
  },
  {
   "cell_type": "code",
   "execution_count": 14,
   "id": "eeeb28bf",
   "metadata": {},
   "outputs": [],
   "source": [
    "import pandas as pd\n",
    "import numpy as np"
   ]
  },
  {
   "cell_type": "markdown",
   "id": "c9ed67c2",
   "metadata": {},
   "source": [
    "## Codes Pandas\n",
    "### Manipulação básica de Data"
   ]
  },
  {
   "cell_type": "markdown",
   "id": "52961cdb",
   "metadata": {},
   "source": [
    "Importando data (Carregando dados)"
   ]
  },
  {
   "cell_type": "code",
   "execution_count": 2,
   "id": "17615459",
   "metadata": {},
   "outputs": [],
   "source": [
    "data = pd.read_csv(\"Data/ibovespa.csv\", sep=\",\")"
   ]
  },
  {
   "cell_type": "code",
   "execution_count": 3,
   "id": "9497342d",
   "metadata": {},
   "outputs": [
    {
     "data": {
      "text/html": [
       "<div>\n",
       "<style scoped>\n",
       "    .dataframe tbody tr th:only-of-type {\n",
       "        vertical-align: middle;\n",
       "    }\n",
       "\n",
       "    .dataframe tbody tr th {\n",
       "        vertical-align: top;\n",
       "    }\n",
       "\n",
       "    .dataframe thead th {\n",
       "        text-align: right;\n",
       "    }\n",
       "</style>\n",
       "<table border=\"1\" class=\"dataframe\">\n",
       "  <thead>\n",
       "    <tr style=\"text-align: right;\">\n",
       "      <th></th>\n",
       "      <th>DateTime</th>\n",
       "      <th>Series 1</th>\n",
       "    </tr>\n",
       "  </thead>\n",
       "  <tbody>\n",
       "    <tr>\n",
       "      <th>0</th>\n",
       "      <td>2019-04-22 00:00:00</td>\n",
       "      <td>94588.06</td>\n",
       "    </tr>\n",
       "    <tr>\n",
       "      <th>1</th>\n",
       "      <td>2019-04-23 00:00:00</td>\n",
       "      <td>95923.24</td>\n",
       "    </tr>\n",
       "    <tr>\n",
       "      <th>2</th>\n",
       "      <td>2019-04-24 00:00:00</td>\n",
       "      <td>95045.43</td>\n",
       "    </tr>\n",
       "    <tr>\n",
       "      <th>3</th>\n",
       "      <td>2019-04-25 00:00:00</td>\n",
       "      <td>96386.29</td>\n",
       "    </tr>\n",
       "    <tr>\n",
       "      <th>4</th>\n",
       "      <td>2019-04-26 00:00:00</td>\n",
       "      <td>96236.00</td>\n",
       "    </tr>\n",
       "    <tr>\n",
       "      <th>5</th>\n",
       "      <td>2019-04-29 00:00:00</td>\n",
       "      <td>96187.75</td>\n",
       "    </tr>\n",
       "    <tr>\n",
       "      <th>6</th>\n",
       "      <td>2019-04-30 00:00:00</td>\n",
       "      <td>96353.33</td>\n",
       "    </tr>\n",
       "  </tbody>\n",
       "</table>\n",
       "</div>"
      ],
      "text/plain": [
       "              DateTime  Series 1\n",
       "0  2019-04-22 00:00:00  94588.06\n",
       "1  2019-04-23 00:00:00  95923.24\n",
       "2  2019-04-24 00:00:00  95045.43\n",
       "3  2019-04-25 00:00:00  96386.29\n",
       "4  2019-04-26 00:00:00  96236.00\n",
       "5  2019-04-29 00:00:00  96187.75\n",
       "6  2019-04-30 00:00:00  96353.33"
      ]
     },
     "execution_count": 3,
     "metadata": {},
     "output_type": "execute_result"
    }
   ],
   "source": [
    "data.head(7)               # Exibe os 7 primeiros elementos"
   ]
  },
  {
   "cell_type": "code",
   "execution_count": 4,
   "id": "36f8a807",
   "metadata": {},
   "outputs": [
    {
     "name": "stdout",
     "output_type": "stream",
     "text": [
      "<class 'pandas.core.frame.DataFrame'>\n",
      "RangeIndex: 996 entries, 0 to 995\n",
      "Data columns (total 2 columns):\n",
      " #   Column    Non-Null Count  Dtype  \n",
      "---  ------    --------------  -----  \n",
      " 0   DateTime  996 non-null    object \n",
      " 1   Series 1  996 non-null    float64\n",
      "dtypes: float64(1), object(1)\n",
      "memory usage: 15.7+ KB\n"
     ]
    },
    {
     "data": {
      "text/plain": [
       "(996, 2)"
      ]
     },
     "execution_count": 4,
     "metadata": {},
     "output_type": "execute_result"
    }
   ],
   "source": [
    "data.info()               # Carrega as caracteristicas do data\n",
    "type(data)                # Verifica o tipo do objeto\n",
    "data.shape                # Exibe o formato do dataframe (linha/coluna)"
   ]
  },
  {
   "cell_type": "markdown",
   "id": "4dd72072",
   "metadata": {},
   "source": [
    "#### Criando um Dataframe"
   ]
  },
  {
   "cell_type": "code",
   "execution_count": 5,
   "id": "4e447489",
   "metadata": {},
   "outputs": [
    {
     "data": {
      "text/html": [
       "<div>\n",
       "<style scoped>\n",
       "    .dataframe tbody tr th:only-of-type {\n",
       "        vertical-align: middle;\n",
       "    }\n",
       "\n",
       "    .dataframe tbody tr th {\n",
       "        vertical-align: top;\n",
       "    }\n",
       "\n",
       "    .dataframe thead th {\n",
       "        text-align: right;\n",
       "    }\n",
       "</style>\n",
       "<table border=\"1\" class=\"dataframe\">\n",
       "  <thead>\n",
       "    <tr style=\"text-align: right;\">\n",
       "      <th></th>\n",
       "      <th>Nome Completo</th>\n",
       "      <th>idade</th>\n",
       "      <th>peso</th>\n",
       "    </tr>\n",
       "  </thead>\n",
       "  <tbody>\n",
       "    <tr>\n",
       "      <th>0</th>\n",
       "      <td>Gabriel</td>\n",
       "      <td>26</td>\n",
       "      <td>70.5</td>\n",
       "    </tr>\n",
       "    <tr>\n",
       "      <th>1</th>\n",
       "      <td>Yoda</td>\n",
       "      <td>100</td>\n",
       "      <td>63.9</td>\n",
       "    </tr>\n",
       "    <tr>\n",
       "      <th>2</th>\n",
       "      <td>Palpatine</td>\n",
       "      <td>15</td>\n",
       "      <td>59.9</td>\n",
       "    </tr>\n",
       "  </tbody>\n",
       "</table>\n",
       "</div>"
      ],
      "text/plain": [
       "  Nome Completo  idade  peso\n",
       "0       Gabriel     26  70.5\n",
       "1          Yoda    100  63.9\n",
       "2     Palpatine     15  59.9"
      ]
     },
     "execution_count": 5,
     "metadata": {},
     "output_type": "execute_result"
    }
   ],
   "source": [
    "personagens_df = pd.DataFrame({                                  # Criando um DataFrame\n",
    "    'nome' : [\"Gabriel\", \"Yoda\", \"Palpatine\"],\n",
    "    'idade' : [26,100,15],\n",
    "    'peso' : [70.5,63.9,59.9]\n",
    "})\n",
    "personagens_df.columns                                      # retorna uma lista de todas as colunas\n",
    "personagens_df.rename(        # renomeia a coluna nome (gera uma cópia) (implace = true -> altera o data sem cópia)\n",
    "    columns={'nome' : 'Nome Completo'}\n",
    ")             \n"
   ]
  },
  {
   "cell_type": "markdown",
   "id": "43dd0071",
   "metadata": {},
   "source": [
    "#### Series\n",
    "array uni-dimensional com os dados e rótulos de um eixo."
   ]
  },
  {
   "cell_type": "code",
   "execution_count": 6,
   "id": "4a1becb9",
   "metadata": {},
   "outputs": [
    {
     "data": {
      "text/plain": [
       "0       94588.06\n",
       "1       95923.24\n",
       "2       95045.43\n",
       "3       96386.29\n",
       "4       96236.00\n",
       "         ...    \n",
       "991    106889.71\n",
       "992    106457.85\n",
       "993    106279.37\n",
       "994    106015.67\n",
       "995    105727.89\n",
       "Name: Series 1, Length: 996, dtype: float64"
      ]
     },
     "execution_count": 6,
     "metadata": {},
     "output_type": "execute_result"
    }
   ],
   "source": [
    "data['Series 1']           # Seleciona uma coluna inteira (poderia ser usado tamem como data.Series)'b'"
   ]
  },
  {
   "cell_type": "code",
   "execution_count": 7,
   "id": "eb3c850d",
   "metadata": {},
   "outputs": [
    {
     "data": {
      "text/plain": [
       "prova1     4\n",
       "trab1      3\n",
       "project    6\n",
       "Name: name of the series, dtype: int64"
      ]
     },
     "execution_count": 7,
     "metadata": {},
     "output_type": "execute_result"
    }
   ],
   "source": [
    "data.iloc[1]                # Pega uma linha do dataset (amostra)\n",
    "pd.Series([4,3,6,4,5])      # Declara uma series\n",
    "pd.Series([4,3,6], index=['prova1', 'trab1', 'project'], name='name of the series')"
   ]
  },
  {
   "cell_type": "markdown",
   "id": "1b50e7f6",
   "metadata": {},
   "source": [
    "#### Atribuindo Dados"
   ]
  },
  {
   "cell_type": "code",
   "execution_count": 8,
   "id": "7794b7ef",
   "metadata": {},
   "outputs": [
    {
     "name": "stdout",
     "output_type": "stream",
     "text": [
      "              DateTime  Series 1\n",
      "0  2019-04-22 00:00:00        34\n",
      "1  2019-04-23 00:00:00        34\n",
      "2  2019-04-24 00:00:00        34\n",
      "3  2019-04-25 00:00:00        34\n",
      "4  2019-04-26 00:00:00        34\n",
      "              DateTime  Series 1\n",
      "0  2019-04-22 00:00:00         1\n",
      "1  2019-04-23 00:00:00         2\n",
      "2  2019-04-24 00:00:00         3\n",
      "3  2019-04-25 00:00:00         4\n",
      "4  2019-04-26 00:00:00         5\n"
     ]
    }
   ],
   "source": [
    "data_view = data['Series 1']          # Gera uma referência para a coluna series 1\n",
    "data_view = data['Series 1'].copy()   # Gera uma copia para a coluna series 1\n",
    "data['Series 1'] = 34                 # Atribui cada linha da coluna Series no dataframe como 34\n",
    "rowq, colq = data.shape               # Retorna a qtd de linha e coluna do dataframe\n",
    "\n",
    "dataColCopy = data['Series 1']\n",
    "print(data.head())\n",
    "newCol = [i+1 for i in range(rowq)]\n",
    "data['Series 1'] = newCol\n",
    "print(data.head())"
   ]
  },
  {
   "cell_type": "markdown",
   "id": "b3c2356e",
   "metadata": {},
   "source": [
    "#### Criando novas colunas"
   ]
  },
  {
   "cell_type": "code",
   "execution_count": 9,
   "id": "f1be2383",
   "metadata": {},
   "outputs": [
    {
     "data": {
      "text/html": [
       "<div>\n",
       "<style scoped>\n",
       "    .dataframe tbody tr th:only-of-type {\n",
       "        vertical-align: middle;\n",
       "    }\n",
       "\n",
       "    .dataframe tbody tr th {\n",
       "        vertical-align: top;\n",
       "    }\n",
       "\n",
       "    .dataframe thead th {\n",
       "        text-align: right;\n",
       "    }\n",
       "</style>\n",
       "<table border=\"1\" class=\"dataframe\">\n",
       "  <thead>\n",
       "    <tr style=\"text-align: right;\">\n",
       "      <th></th>\n",
       "      <th>nome</th>\n",
       "      <th>idade</th>\n",
       "      <th>peso</th>\n",
       "    </tr>\n",
       "  </thead>\n",
       "  <tbody>\n",
       "    <tr>\n",
       "      <th>idx1</th>\n",
       "      <td>Gabriel</td>\n",
       "      <td>26</td>\n",
       "      <td>70.5</td>\n",
       "    </tr>\n",
       "    <tr>\n",
       "      <th>idx2</th>\n",
       "      <td>Yoda</td>\n",
       "      <td>100</td>\n",
       "      <td>63.9</td>\n",
       "    </tr>\n",
       "    <tr>\n",
       "      <th>idx3</th>\n",
       "      <td>Palpatine</td>\n",
       "      <td>15</td>\n",
       "      <td>59.9</td>\n",
       "    </tr>\n",
       "  </tbody>\n",
       "</table>\n",
       "</div>"
      ],
      "text/plain": [
       "           nome  idade  peso\n",
       "idx1    Gabriel     26  70.5\n",
       "idx2       Yoda    100  63.9\n",
       "idx3  Palpatine     15  59.9"
      ]
     },
     "execution_count": 9,
     "metadata": {},
     "output_type": "execute_result"
    }
   ],
   "source": [
    "data['newCol'] = 'newc'                  # Gera uma nova coluna com todos os valores sendo 'newc'\n",
    "data['Series 1'] = data['Series 1'] * 3    # Gera uma nova coluna a partir de outra\n",
    "data.index\n",
    "\n",
    "personagens_df = pd.DataFrame({                                  # Criando um DataFrame\n",
    "    'nome' : [\"Gabriel\", \"Yoda\", \"Palpatine\"],\n",
    "    'idade' : [26,100,15],\n",
    "    'peso' : [70.5,63.9,59.9]\n",
    "}, index=['idx1', 'idx2', 'idx3'])                               # Atribui o valor nos index\n",
    "personagens_df"
   ]
  },
  {
   "cell_type": "markdown",
   "id": "da8a41df",
   "metadata": {},
   "source": [
    "####  Selecionando uma ou mais amostras a partir do index"
   ]
  },
  {
   "cell_type": "code",
   "execution_count": 10,
   "id": "d621adde",
   "metadata": {},
   "outputs": [
    {
     "name": "stdout",
     "output_type": "stream",
     "text": [
      "6\n"
     ]
    },
    {
     "data": {
      "text/plain": [
       "nome     Gabriel\n",
       "idade         26\n",
       "peso        70.5\n",
       "Name: idx1, dtype: object"
      ]
     },
     "execution_count": 10,
     "metadata": {},
     "output_type": "execute_result"
    }
   ],
   "source": [
    "data.iloc[1]['Series 1']               # Recupera o valor da coluna Series 1 da linha 1\n",
    "print(data.iloc[1,1])                  # Recupera o valor da coluna 1 e da linha 1\n",
    "data.iloc[2:8]['Series 1']             # Recupera o valor da coluna Series 1 do intervalo 2-4\n",
    "data.iloc[[1,5,6,9]]                   # Recupera somente os elementos dentro da lista no iloc\n",
    "personagens_df.loc['idx1']             # Recupera a amostra pelo index literal (visivel)"
   ]
  },
  {
   "cell_type": "markdown",
   "id": "6df7d7e0",
   "metadata": {},
   "source": [
    "#### Removendo Atributos"
   ]
  },
  {
   "cell_type": "code",
   "execution_count": 11,
   "id": "99bf29df",
   "metadata": {},
   "outputs": [],
   "source": [
    "del data['newCol']                     # Remove a coluna 'newCol' no próprio dataframe "
   ]
  },
  {
   "cell_type": "markdown",
   "id": "0f25c82d",
   "metadata": {},
   "source": [
    "####  Salvando dataframe"
   ]
  },
  {
   "cell_type": "code",
   "execution_count": 12,
   "id": "e745b0bb",
   "metadata": {},
   "outputs": [],
   "source": [
    "data.to_csv('Data/train.csv', index=False, sep = ',')"
   ]
  },
  {
   "cell_type": "markdown",
   "id": "aac4fafc",
   "metadata": {},
   "source": [
    "### Code Numpy"
   ]
  },
  {
   "cell_type": "code",
   "execution_count": 20,
   "id": "b6e37bcd",
   "metadata": {},
   "outputs": [
    {
     "name": "stdout",
     "output_type": "stream",
     "text": [
      "[[ 1  2  3]\n",
      " [ 3  2  1]\n",
      " [53  3  1]]\n",
      "\n",
      " [[ 0  1  2]\n",
      " [ 3  4  5]\n",
      " [ 6  7  8]\n",
      " [ 9 10 11]\n",
      " [12 13 14]]\n"
     ]
    }
   ],
   "source": [
    "a = np.array([                        # Declarando uma matriz\n",
    "    [1,2,3],\n",
    "    [3,2,1],\n",
    "    [53,3,1]\n",
    "])\n",
    "\n",
    "b = np.arange(15).reshape(5,3)       # Declara uma matriz (5l x 3c) a partir de um arange \n",
    "\n",
    "c = np.zeros((3,4), dtype = int)     # Declara uma matriz de zeros\n",
    "d = np.ones((3,4), dtype = int)      # Declara uma matriz de um's\n",
    "\n",
    "sum = c+d                            # Soma elemento por elemeto com seu remetente (para todas operações basicas)\n",
    "asum = a.sum()                       # realiza a soma de todos os elementos do conjunto\n",
    "lsum = a.sum(axis=0)                 # Realiza a soma linha a linha do conjunto\n",
    "csum = a.sum(axis=1)                 # Realiza a soma coluna a coluna do conjunto\n",
    "\n",
    "mean = a.mean()                      # Realiza a média dos valore (segue a mesma lógica do sum)\n",
    "\n",
    "print(a)\n",
    "print(\"\\n\",b)"
   ]
  }
 ],
 "metadata": {
  "kernelspec": {
   "display_name": "Python 3 (ipykernel)",
   "language": "python",
   "name": "python3"
  },
  "language_info": {
   "codemirror_mode": {
    "name": "ipython",
    "version": 3
   },
   "file_extension": ".py",
   "mimetype": "text/x-python",
   "name": "python",
   "nbconvert_exporter": "python",
   "pygments_lexer": "ipython3",
   "version": "3.10.6"
  }
 },
 "nbformat": 4,
 "nbformat_minor": 5
}
