{
 "cells": [
  {
   "cell_type": "code",
   "execution_count": 3,
   "id": "c7d00be1",
   "metadata": {},
   "outputs": [],
   "source": [
    "import sklearn.model_selection as ms\n",
    "import pandas as pd\n",
    "\n",
    "dataName = \"PETR4_B_0_30min\"\n",
    "testSize = 0.1\n",
    "\n",
    "dataset1 = pd.read_csv(f'Selected/In_class_{dataName}.csv', sep = ';')  \n",
    "dataset2 = pd.read_csv(f'Selected/In_regre_{dataName}.csv', sep = ';')\n",
    "Y        = pd.read_csv(f'Selected/{dataName}_Out.csv',      sep = ';') \n",
    "\n",
    "X_train, X_test, Y_train, Y_test = ms.train_test_split(dataset1, Y, test_size = testSize, random_state = None, shuffle = False)\n",
    "X_train.to_csv(f'Selected/dataset1/X_Train_{dataName}.csv',  index=False, sep = ';') \n",
    "Y_train.to_csv(f'Selected/dataset1/Y_Train_{dataName}.csv', index=False, sep = ';') \n",
    "X_test.to_csv( f'Selected/dataset1/X_Test_{dataName}.csv',   index=False, sep = ';') \n",
    "Y_test.to_csv( f'Selected/dataset1/Y_Test_{dataName}.csv',  index=False, sep = ';') \n",
    "\n",
    "X_train, X_test, Y_train, Y_test = ms.train_test_split(dataset2, Y, test_size = testSize, random_state = 0)\n",
    "X_train.to_csv(f'Selected/dataset2/X_Train_{dataName}.csv',  index=False, sep = ';') \n",
    "Y_train.to_csv(f'Selected/dataset2/Y_Train_{dataName}.csv', index=False, sep = ';') \n",
    "X_test.to_csv( f'Selected/dataset2/X_Test_{dataName}.csv',   index=False, sep = ';') \n",
    "Y_test.to_csv( f'Selected/dataset2/Y_Test_{dataName}.csv',  index=False, sep = ';') "
   ]
  }
 ],
 "metadata": {
  "kernelspec": {
   "display_name": "Python 3 (ipykernel)",
   "language": "python",
   "name": "python3"
  },
  "language_info": {
   "codemirror_mode": {
    "name": "ipython",
    "version": 3
   },
   "file_extension": ".py",
   "mimetype": "text/x-python",
   "name": "python",
   "nbconvert_exporter": "python",
   "pygments_lexer": "ipython3",
   "version": "3.10.6"
  }
 },
 "nbformat": 4,
 "nbformat_minor": 5
}
