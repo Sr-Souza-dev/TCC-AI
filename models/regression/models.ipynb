{
 "cells": [
  {
   "cell_type": "markdown",
   "id": "da7153ee",
   "metadata": {},
   "source": [
    "## Estruturando Modelos\n",
    "#### Imports"
   ]
  },
  {
   "cell_type": "code",
   "execution_count": 1,
   "id": "232f54e0",
   "metadata": {},
   "outputs": [],
   "source": [
    "from sklearn.svm import SVC\n",
    "from sklearn.metrics import accuracy_score, f1_score, confusion_matrix\n",
    "\n",
    "import sklearn.model_selection as ms\n",
    "import matplotlib.pyplot as plt\n",
    "import pandas as pd\n",
    "import numpy  as np"
   ]
  },
  {
   "cell_type": "markdown",
   "id": "807d1225",
   "metadata": {},
   "source": [
    "#### Definição Padrão"
   ]
  },
  {
   "cell_type": "code",
   "execution_count": 2,
   "id": "e88a6e89",
   "metadata": {},
   "outputs": [],
   "source": [
    "dataName = \"WINFUT_F_0_30min\"\n",
    "testSize = 0.2"
   ]
  },
  {
   "cell_type": "markdown",
   "id": "e77ae711",
   "metadata": {},
   "source": [
    "#### Importando Dados de Entrada"
   ]
  },
  {
   "cell_type": "code",
   "execution_count": 3,
   "id": "a3bbb5cc",
   "metadata": {},
   "outputs": [],
   "source": [
    "X = pd.read_csv(f'../../Data/Selected/In_class_{dataName}.csv', sep=\";\").values\n",
    "Y = pd.read_csv(f'../../Data/Selected/Out_{dataName}.csv', sep=\";\").iloc[:,1].values \n",
    "\n",
    "X_train, X_test, Y_train, Y_test = ms.train_test_split(X, Y, test_size = testSize, random_state = 0)"
   ]
  },
  {
   "cell_type": "markdown",
   "id": "3372ec3b",
   "metadata": {},
   "source": [
    "#### Models"
   ]
  },
  {
   "cell_type": "code",
   "execution_count": 4,
   "id": "5054b0b7",
   "metadata": {},
   "outputs": [],
   "source": [
    "models = []\n",
    "namesM = ['SVM']\n",
    "models.append(SVC(kernel='rbf'))                 # SVM (SVC) Support Vector Machine"
   ]
  },
  {
   "cell_type": "markdown",
   "id": "30c82047",
   "metadata": {},
   "source": [
    "#### Executando Modelos"
   ]
  },
  {
   "cell_type": "code",
   "execution_count": 5,
   "id": "e43d2345",
   "metadata": {},
   "outputs": [],
   "source": [
    "for model in models:\n",
    "    model.fit(X_train, Y_train)"
   ]
  },
  {
   "cell_type": "markdown",
   "id": "33a728ec",
   "metadata": {},
   "source": [
    "### Analisando Modelos"
   ]
  },
  {
   "cell_type": "code",
   "execution_count": 8,
   "id": "717f3f72",
   "metadata": {},
   "outputs": [
    {
     "name": "stdout",
     "output_type": "stream",
     "text": [
      "Modelo SVM \n",
      "Acurácia:  0.5522638345444383 \n",
      "F1-score:  0.5130699088145897 \n",
      "Matriz Confusão: \n",
      " [[566 357]\n",
      " [444 422]] \n",
      "\n",
      "\n"
     ]
    }
   ],
   "source": [
    "for i in range(len(models)):\n",
    "    Y_pred = models[i].predict(X_test)    \n",
    "    \n",
    "    print(f'Modelo {namesM[i]}',\n",
    "          \"\\nAcurácia: \", accuracy_score(Y_test, Y_pred),\n",
    "          \"\\nF1-score: \", f1_score(Y_test, Y_pred, average='binary'),\n",
    "          \"\\nMatriz Confusão: \\n\", confusion_matrix(Y_test, Y_pred), \"\\n\\n\")\n",
    "    "
   ]
  },
  {
   "cell_type": "code",
   "execution_count": 7,
   "id": "b9592ebf",
   "metadata": {},
   "outputs": [],
   "source": [
    "# fig, ax = plt.subplots(figsize=(9,5))\n",
    "# x = range(len(Y_test))\n",
    "\n",
    "# for i in range(len(models)):\n",
    "#     Y_pred = models[i].predict(X_test)\n",
    "    \n",
    "#     ax.plot(x, Y_pred, color='r', linestyle='-', label='Predito')\n",
    "#     ax.plot(x, Y_test, color='b', linestyle=':', label='Real')\n",
    "#     ax.set_title(f'Matriz Confusão ({namesM[i]})')\n",
    "#     ax.set_xlabel('Predito', size=22)\n",
    "#     ax.set_ylabel('Real',   size=22)\n",
    "#     plt.grid(True, linestyle='--')\n",
    "#     plt.legend()\n",
    "    \n",
    "#     fig.savefig(f'analysis/{namesM[i]}_comparasion.png')\n",
    "#     plt.show(True)\n",
    "    \n",
    "    \n",
    "#     print(\"Acurácia: \",accuracy_score(Y_test, Y_pred),\n",
    "#           \"\\nF1-score:    \", f1_score(Y_test, Y_pred, average='binary'))\n",
    "    "
   ]
  }
 ],
 "metadata": {
  "kernelspec": {
   "display_name": "Python 3 (ipykernel)",
   "language": "python",
   "name": "python3"
  },
  "language_info": {
   "codemirror_mode": {
    "name": "ipython",
    "version": 3
   },
   "file_extension": ".py",
   "mimetype": "text/x-python",
   "name": "python",
   "nbconvert_exporter": "python",
   "pygments_lexer": "ipython3",
   "version": "3.10.6"
  }
 },
 "nbformat": 4,
 "nbformat_minor": 5
}
